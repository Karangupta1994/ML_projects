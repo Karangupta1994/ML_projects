{
 "cells": [
  {
   "cell_type": "code",
   "execution_count": 1,
   "metadata": {},
   "outputs": [],
   "source": [
    "import pandas as pd\n",
    "import numpy as np\n",
    "import matplotlib.pyplot as plt\n",
    "import seaborn as sns \n",
    "%matplotlib inline"
   ]
  },
  {
   "cell_type": "markdown",
   "metadata": {},
   "source": [
    "### Reading the Dataset"
   ]
  },
  {
   "cell_type": "code",
   "execution_count": 2,
   "metadata": {},
   "outputs": [
    {
     "data": {
      "text/html": [
       "<div>\n",
       "<style scoped>\n",
       "    .dataframe tbody tr th:only-of-type {\n",
       "        vertical-align: middle;\n",
       "    }\n",
       "\n",
       "    .dataframe tbody tr th {\n",
       "        vertical-align: top;\n",
       "    }\n",
       "\n",
       "    .dataframe thead th {\n",
       "        text-align: right;\n",
       "    }\n",
       "</style>\n",
       "<table border=\"1\" class=\"dataframe\">\n",
       "  <thead>\n",
       "    <tr style=\"text-align: right;\">\n",
       "      <th></th>\n",
       "      <th>SALE TYPE</th>\n",
       "      <th>SOLD DATE</th>\n",
       "      <th>PROPERTY TYPE</th>\n",
       "      <th>ADDRESS</th>\n",
       "      <th>CITY</th>\n",
       "      <th>STATE OR PROVINCE</th>\n",
       "      <th>ZIP OR POSTAL CODE</th>\n",
       "      <th>PRICE</th>\n",
       "      <th>BEDS</th>\n",
       "      <th>BATHS</th>\n",
       "      <th>...</th>\n",
       "      <th>STATUS</th>\n",
       "      <th>NEXT OPEN HOUSE START TIME</th>\n",
       "      <th>NEXT OPEN HOUSE END TIME</th>\n",
       "      <th>URL (SEE http://www.redfin.com/buy-a-home/comparative-market-analysis FOR INFO ON PRICING)</th>\n",
       "      <th>SOURCE</th>\n",
       "      <th>MLS#</th>\n",
       "      <th>FAVORITE</th>\n",
       "      <th>INTERESTED</th>\n",
       "      <th>LATITUDE</th>\n",
       "      <th>LONGITUDE</th>\n",
       "    </tr>\n",
       "  </thead>\n",
       "  <tbody>\n",
       "    <tr>\n",
       "      <th>0</th>\n",
       "      <td>MLS Listing</td>\n",
       "      <td>NaN</td>\n",
       "      <td>Single Family Residential</td>\n",
       "      <td>63 Jared Dr</td>\n",
       "      <td>White Plains</td>\n",
       "      <td>NY</td>\n",
       "      <td>10605</td>\n",
       "      <td>849000</td>\n",
       "      <td>3.0</td>\n",
       "      <td>3.0</td>\n",
       "      <td>...</td>\n",
       "      <td>Active</td>\n",
       "      <td>NaN</td>\n",
       "      <td>NaN</td>\n",
       "      <td>http://www.redfin.com/NY/White-Plains/63-Jared...</td>\n",
       "      <td>OneKey</td>\n",
       "      <td>H6019318</td>\n",
       "      <td>N</td>\n",
       "      <td>Y</td>\n",
       "      <td>41.005312</td>\n",
       "      <td>-73.754431</td>\n",
       "    </tr>\n",
       "    <tr>\n",
       "      <th>1</th>\n",
       "      <td>MLS Listing</td>\n",
       "      <td>NaN</td>\n",
       "      <td>Single Family Residential</td>\n",
       "      <td>138 Rosedale Ave</td>\n",
       "      <td>White Plains</td>\n",
       "      <td>NY</td>\n",
       "      <td>10605</td>\n",
       "      <td>1295000</td>\n",
       "      <td>4.0</td>\n",
       "      <td>3.5</td>\n",
       "      <td>...</td>\n",
       "      <td>Active</td>\n",
       "      <td>NaN</td>\n",
       "      <td>NaN</td>\n",
       "      <td>http://www.redfin.com/NY/White-Plains/138-Rose...</td>\n",
       "      <td>OneKey</td>\n",
       "      <td>H6040378</td>\n",
       "      <td>N</td>\n",
       "      <td>Y</td>\n",
       "      <td>40.993136</td>\n",
       "      <td>-73.743901</td>\n",
       "    </tr>\n",
       "    <tr>\n",
       "      <th>2</th>\n",
       "      <td>MLS Listing</td>\n",
       "      <td>NaN</td>\n",
       "      <td>Condo/Co-op</td>\n",
       "      <td>107 Winding Ridge Rd</td>\n",
       "      <td>White Plains</td>\n",
       "      <td>NY</td>\n",
       "      <td>10603</td>\n",
       "      <td>825000</td>\n",
       "      <td>4.0</td>\n",
       "      <td>3.5</td>\n",
       "      <td>...</td>\n",
       "      <td>Active</td>\n",
       "      <td>NaN</td>\n",
       "      <td>NaN</td>\n",
       "      <td>http://www.redfin.com/NY/White-Plains/107-Wind...</td>\n",
       "      <td>OneKey</td>\n",
       "      <td>H6040647</td>\n",
       "      <td>N</td>\n",
       "      <td>Y</td>\n",
       "      <td>41.044967</td>\n",
       "      <td>-73.785415</td>\n",
       "    </tr>\n",
       "    <tr>\n",
       "      <th>3</th>\n",
       "      <td>MLS Listing</td>\n",
       "      <td>NaN</td>\n",
       "      <td>Single Family Residential</td>\n",
       "      <td>15 Kenilworth Rd</td>\n",
       "      <td>Rye</td>\n",
       "      <td>NY</td>\n",
       "      <td>10580</td>\n",
       "      <td>1748999</td>\n",
       "      <td>5.0</td>\n",
       "      <td>4.5</td>\n",
       "      <td>...</td>\n",
       "      <td>Active</td>\n",
       "      <td>NaN</td>\n",
       "      <td>NaN</td>\n",
       "      <td>http://www.redfin.com/NY/Rye/15-Kenilworth-Rd-...</td>\n",
       "      <td>OneKey</td>\n",
       "      <td>H6040655</td>\n",
       "      <td>N</td>\n",
       "      <td>Y</td>\n",
       "      <td>41.001077</td>\n",
       "      <td>-73.722203</td>\n",
       "    </tr>\n",
       "    <tr>\n",
       "      <th>4</th>\n",
       "      <td>MLS Listing</td>\n",
       "      <td>NaN</td>\n",
       "      <td>Condo/Co-op</td>\n",
       "      <td>10 Bryant Cres Unit 1N</td>\n",
       "      <td>White Plains</td>\n",
       "      <td>NY</td>\n",
       "      <td>10605</td>\n",
       "      <td>259900</td>\n",
       "      <td>2.0</td>\n",
       "      <td>1.0</td>\n",
       "      <td>...</td>\n",
       "      <td>Active</td>\n",
       "      <td>NaN</td>\n",
       "      <td>NaN</td>\n",
       "      <td>http://www.redfin.com/NY/White-Plains/10-Bryan...</td>\n",
       "      <td>OneKey</td>\n",
       "      <td>H6039442</td>\n",
       "      <td>N</td>\n",
       "      <td>Y</td>\n",
       "      <td>41.019627</td>\n",
       "      <td>-73.750702</td>\n",
       "    </tr>\n",
       "  </tbody>\n",
       "</table>\n",
       "<p>5 rows × 27 columns</p>\n",
       "</div>"
      ],
      "text/plain": [
       "     SALE TYPE  SOLD DATE              PROPERTY TYPE                 ADDRESS  \\\n",
       "0  MLS Listing        NaN  Single Family Residential             63 Jared Dr   \n",
       "1  MLS Listing        NaN  Single Family Residential        138 Rosedale Ave   \n",
       "2  MLS Listing        NaN                Condo/Co-op    107 Winding Ridge Rd   \n",
       "3  MLS Listing        NaN  Single Family Residential        15 Kenilworth Rd   \n",
       "4  MLS Listing        NaN                Condo/Co-op  10 Bryant Cres Unit 1N   \n",
       "\n",
       "           CITY STATE OR PROVINCE  ZIP OR POSTAL CODE    PRICE  BEDS  BATHS  \\\n",
       "0  White Plains                NY               10605   849000   3.0    3.0   \n",
       "1  White Plains                NY               10605  1295000   4.0    3.5   \n",
       "2  White Plains                NY               10603   825000   4.0    3.5   \n",
       "3           Rye                NY               10580  1748999   5.0    4.5   \n",
       "4  White Plains                NY               10605   259900   2.0    1.0   \n",
       "\n",
       "   ...  STATUS  NEXT OPEN HOUSE START TIME  NEXT OPEN HOUSE END TIME  \\\n",
       "0  ...  Active                         NaN                       NaN   \n",
       "1  ...  Active                         NaN                       NaN   \n",
       "2  ...  Active                         NaN                       NaN   \n",
       "3  ...  Active                         NaN                       NaN   \n",
       "4  ...  Active                         NaN                       NaN   \n",
       "\n",
       "   URL (SEE http://www.redfin.com/buy-a-home/comparative-market-analysis FOR INFO ON PRICING)  \\\n",
       "0  http://www.redfin.com/NY/White-Plains/63-Jared...                                            \n",
       "1  http://www.redfin.com/NY/White-Plains/138-Rose...                                            \n",
       "2  http://www.redfin.com/NY/White-Plains/107-Wind...                                            \n",
       "3  http://www.redfin.com/NY/Rye/15-Kenilworth-Rd-...                                            \n",
       "4  http://www.redfin.com/NY/White-Plains/10-Bryan...                                            \n",
       "\n",
       "   SOURCE      MLS#  FAVORITE INTERESTED   LATITUDE  LONGITUDE  \n",
       "0  OneKey  H6019318         N          Y  41.005312 -73.754431  \n",
       "1  OneKey  H6040378         N          Y  40.993136 -73.743901  \n",
       "2  OneKey  H6040647         N          Y  41.044967 -73.785415  \n",
       "3  OneKey  H6040655         N          Y  41.001077 -73.722203  \n",
       "4  OneKey  H6039442         N          Y  41.019627 -73.750702  \n",
       "\n",
       "[5 rows x 27 columns]"
      ]
     },
     "execution_count": 2,
     "metadata": {},
     "output_type": "execute_result"
    }
   ],
   "source": [
    "data = pd.read_csv('White_Plains_NYC.csv')\n",
    "data.head()"
   ]
  },
  {
   "cell_type": "code",
   "execution_count": 3,
   "metadata": {},
   "outputs": [
    {
     "data": {
      "text/plain": [
       "(253, 27)"
      ]
     },
     "execution_count": 3,
     "metadata": {},
     "output_type": "execute_result"
    }
   ],
   "source": [
    "data.shape"
   ]
  },
  {
   "cell_type": "markdown",
   "metadata": {},
   "source": [
    "### check if there are any null values in the dataset"
   ]
  },
  {
   "cell_type": "code",
   "execution_count": 5,
   "metadata": {},
   "outputs": [
    {
     "data": {
      "text/plain": [
       "SALE TYPE                                                                                       0\n",
       "SOLD DATE                                                                                     253\n",
       "PROPERTY TYPE                                                                                   0\n",
       "ADDRESS                                                                                         0\n",
       "CITY                                                                                            0\n",
       "STATE OR PROVINCE                                                                               0\n",
       "ZIP OR POSTAL CODE                                                                              0\n",
       "PRICE                                                                                           0\n",
       "BEDS                                                                                            1\n",
       "BATHS                                                                                           7\n",
       "LOCATION                                                                                        0\n",
       "SQUARE FEET                                                                                     6\n",
       "LOT SIZE                                                                                       91\n",
       "YEAR BUILT                                                                                      7\n",
       "DAYS ON MARKET                                                                                  0\n",
       "$/SQUARE FEET                                                                                   6\n",
       "HOA/MONTH                                                                                     128\n",
       "STATUS                                                                                          0\n",
       "NEXT OPEN HOUSE START TIME                                                                    253\n",
       "NEXT OPEN HOUSE END TIME                                                                      253\n",
       "URL (SEE http://www.redfin.com/buy-a-home/comparative-market-analysis FOR INFO ON PRICING)      0\n",
       "SOURCE                                                                                          0\n",
       "MLS#                                                                                            0\n",
       "FAVORITE                                                                                        0\n",
       "INTERESTED                                                                                      0\n",
       "LATITUDE                                                                                        0\n",
       "LONGITUDE                                                                                       0\n",
       "dtype: int64"
      ]
     },
     "execution_count": 5,
     "metadata": {},
     "output_type": "execute_result"
    }
   ],
   "source": [
    "data.isna().sum()"
   ]
  },
  {
   "cell_type": "markdown",
   "metadata": {},
   "source": [
    "#### 1. One thing here we can note is that features 'SOLD DATE','NEXT OPEN HOUSE START TIME' AND 'NEXT OPEN HOUSE END TIME' is complete empty"
   ]
  },
  {
   "cell_type": "code",
   "execution_count": 7,
   "metadata": {},
   "outputs": [],
   "source": [
    "data.drop(['SOLD DATE','NEXT OPEN HOUSE START TIME','NEXT OPEN HOUSE END TIME'],axis=1,inplace=True)"
   ]
  },
  {
   "cell_type": "code",
   "execution_count": 16,
   "metadata": {},
   "outputs": [],
   "source": [
    "data.drop(['ADDRESS','CITY','STATE OR PROVINCE','ZIP OR POSTAL CODE','LOCATION',\n",
    "           'URL (SEE http://www.redfin.com/buy-a-home/comparative-market-analysis FOR INFO ON PRICING)'],axis=1,inplace=True)"
   ]
  },
  {
   "cell_type": "code",
   "execution_count": 17,
   "metadata": {},
   "outputs": [
    {
     "data": {
      "text/plain": [
       "SALE TYPE           0\n",
       "PROPERTY TYPE       0\n",
       "PRICE               0\n",
       "BEDS                1\n",
       "BATHS               7\n",
       "SQUARE FEET         6\n",
       "LOT SIZE           91\n",
       "YEAR BUILT          7\n",
       "DAYS ON MARKET      0\n",
       "$/SQUARE FEET       6\n",
       "HOA/MONTH         128\n",
       "STATUS              0\n",
       "SOURCE              0\n",
       "MLS#                0\n",
       "FAVORITE            0\n",
       "INTERESTED          0\n",
       "LATITUDE            0\n",
       "LONGITUDE           0\n",
       "dtype: int64"
      ]
     },
     "execution_count": 17,
     "metadata": {},
     "output_type": "execute_result"
    }
   ],
   "source": [
    "data.isna().sum()"
   ]
  },
  {
   "cell_type": "code",
   "execution_count": 25,
   "metadata": {},
   "outputs": [],
   "source": [
    "data.drop(['LATITUDE','LONGITUDE','INTERESTED','FAVORITE','MLS#','SOURCE'],axis=1,inplace=True)"
   ]
  },
  {
   "cell_type": "code",
   "execution_count": 26,
   "metadata": {},
   "outputs": [
    {
     "data": {
      "text/plain": [
       "SALE TYPE           0\n",
       "PROPERTY TYPE       0\n",
       "PRICE               0\n",
       "BEDS                1\n",
       "BATHS               7\n",
       "SQUARE FEET         6\n",
       "LOT SIZE           91\n",
       "YEAR BUILT          7\n",
       "DAYS ON MARKET      0\n",
       "$/SQUARE FEET       6\n",
       "HOA/MONTH         128\n",
       "STATUS              0\n",
       "dtype: int64"
      ]
     },
     "execution_count": 26,
     "metadata": {},
     "output_type": "execute_result"
    }
   ],
   "source": [
    "data.isna().sum()"
   ]
  },
  {
   "cell_type": "code",
   "execution_count": 33,
   "metadata": {},
   "outputs": [
    {
     "data": {
      "text/plain": [
       "<matplotlib.axes._subplots.AxesSubplot at 0x12250dc9710>"
      ]
     },
     "execution_count": 33,
     "metadata": {},
     "output_type": "execute_result"
    },
    {
     "data": {
      "image/png": "[encoded data removed]",
      "text/plain": [
       "<Figure size 432x288 with 1 Axes>"
      ]
     },
     "metadata": {
      "needs_background": "light"
     },
     "output_type": "display_data"
    }
   ],
   "source": [
    "data['HOA/MONTH'].plot(kind='kde')"
   ]
  },
  {
   "cell_type": "code",
   "execution_count": 32,
   "metadata": {},
   "outputs": [
    {
     "data": {
      "text/plain": [
       "<matplotlib.axes._subplots.AxesSubplot at 0x1225062c240>"
      ]
     },
     "execution_count": 32,
     "metadata": {},
     "output_type": "execute_result"
    },
    {
     "data": {
      "image/png": "[encoded data removed]",
      "text/plain": [
       "<Figure size 432x288 with 2 Axes>"
      ]
     },
     "metadata": {
      "needs_background": "light"
     },
     "output_type": "display_data"
    }
   ],
   "source": [
    "sns.heatmap(data.corr(),annot=True)"
   ]
  },
  {
   "cell_type": "markdown",
   "metadata": {},
   "source": [
    "### Lets do the Mean, Median, Random sample and end of distributon imputation"
   ]
  },
  {
   "cell_type": "code",
   "execution_count": 34,
   "metadata": {},
   "outputs": [],
   "source": [
    "data['HOA_mean'] = data['HOA/MONTH'].fillna(value = data['HOA/MONTH'].mean())\n",
    "data['HOA_median'] = data['HOA/MONTH'].fillna(value = data['HOA/MONTH'].median())"
   ]
  },
  {
   "cell_type": "code",
   "execution_count": 36,
   "metadata": {},
   "outputs": [
    {
     "name": "stdout",
     "output_type": "stream",
     "text": [
      "1182.2\n"
     ]
    },
    {
     "data": {
      "image/png": "[encoded data removed]",
      "text/plain": [
       "<Figure size 432x288 with 1 Axes>"
      ]
     },
     "metadata": {
      "needs_background": "light"
     },
     "output_type": "display_data"
    }
   ],
   "source": [
    "data['HOA_mean'].plot(kind='kde')\n",
    "print(data['HOA/MONTH'].mean())"
   ]
  },
  {
   "cell_type": "code",
   "execution_count": 37,
   "metadata": {},
   "outputs": [
    {
     "name": "stdout",
     "output_type": "stream",
     "text": [
      "796.0\n"
     ]
    },
    {
     "data": {
      "image/png": "[encoded data removed]",
      "text/plain": [
       "<Figure size 432x288 with 1 Axes>"
      ]
     },
     "metadata": {
      "needs_background": "light"
     },
     "output_type": "display_data"
    }
   ],
   "source": [
    "data['HOA_median'].plot(kind='kde')\n",
    "print(data['HOA/MONTH'].median())"
   ]
  },
  {
   "cell_type": "code",
   "execution_count": 77,
   "metadata": {},
   "outputs": [],
   "source": [
    "data['HOA_random'] = data['HOA/MONTH'].copy()"
   ]
  },
  {
   "cell_type": "code",
   "execution_count": 86,
   "metadata": {},
   "outputs": [],
   "source": [
    "values = data['HOA_random'].dropna().sample(data['HOA/MONTH'].isna().sum(),random_state=0,replace=True)"
   ]
  },
  {
   "cell_type": "code",
   "execution_count": 87,
   "metadata": {},
   "outputs": [],
   "source": [
    "random_sample = data.loc[data['HOA/MONTH'].isna()].index"
   ]
  },
  {
   "cell_type": "markdown",
   "metadata": {},
   "source": [
    "### end of distribution method"
   ]
  },
  {
   "cell_type": "code",
   "execution_count": 92,
   "metadata": {},
   "outputs": [
    {
     "data": {
      "text/plain": [
       "5467.262046451076"
      ]
     },
     "execution_count": 92,
     "metadata": {},
     "output_type": "execute_result"
    }
   ],
   "source": [
    "value = data['HOA/MONTH'].mean() + 3*data['HOA/MONTH'].std()\n",
    "value"
   ]
  },
  {
   "cell_type": "code",
   "execution_count": 93,
   "metadata": {},
   "outputs": [],
   "source": [
    "data['HOA_end'] = data['HOA/MONTH'].fillna(value=value)"
   ]
  },
  {
   "cell_type": "code",
   "execution_count": 96,
   "metadata": {},
   "outputs": [
    {
     "data": {
      "text/plain": [
       "<matplotlib.axes._subplots.AxesSubplot at 0x1225d356780>"
      ]
     },
     "execution_count": 96,
     "metadata": {},
     "output_type": "execute_result"
    },
    {
     "data": {
      "image/png": "[encoded data removed]",
      "text/plain": [
       "<Figure size 432x288 with 1 Axes>"
      ]
     },
     "metadata": {
      "needs_background": "light"
     },
     "output_type": "display_data"
    }
   ],
   "source": [
    "data['HOA_end'].plot(kind='kde')"
   ]
  },
  {
   "cell_type": "code",
   "execution_count": 97,
   "metadata": {},
   "outputs": [],
   "source": [
    "data.drop(['HOA_end','HOA_random','HOA_median'],axis=1,inplace=True)"
   ]
  },
  {
   "cell_type": "code",
   "execution_count": 99,
   "metadata": {},
   "outputs": [],
   "source": [
    "data['HOA/MONTH'].fillna(value = data['HOA/MONTH'].mean(),inplace=True)"
   ]
  },
  {
   "cell_type": "code",
   "execution_count": 100,
   "metadata": {},
   "outputs": [],
   "source": [
    "data.drop(['HOA_mean'],axis=1,inplace=True)"
   ]
  },
  {
   "cell_type": "code",
   "execution_count": 101,
   "metadata": {},
   "outputs": [
    {
     "data": {
      "text/plain": [
       "SALE TYPE          0\n",
       "PROPERTY TYPE      0\n",
       "PRICE              0\n",
       "BEDS               1\n",
       "BATHS              7\n",
       "SQUARE FEET        6\n",
       "LOT SIZE          91\n",
       "YEAR BUILT         7\n",
       "DAYS ON MARKET     0\n",
       "$/SQUARE FEET      6\n",
       "HOA/MONTH          0\n",
       "STATUS             0\n",
       "dtype: int64"
      ]
     },
     "execution_count": 101,
     "metadata": {},
     "output_type": "execute_result"
    }
   ],
   "source": [
    "data.isna().sum()"
   ]
  },
  {
   "cell_type": "code",
   "execution_count": 103,
   "metadata": {},
   "outputs": [
    {
     "data": {
      "text/plain": [
       "<matplotlib.axes._subplots.AxesSubplot at 0x1225d519a20>"
      ]
     },
     "execution_count": 103,
     "metadata": {},
     "output_type": "execute_result"
    },
    {
     "data": {
      "image/png": "[encoded data removed]",
      "text/plain": [
       "<Figure size 432x288 with 1 Axes>"
      ]
     },
     "metadata": {
      "needs_background": "light"
     },
     "output_type": "display_data"
    }
   ],
   "source": [
    "data['LOT SIZE'].plot(kind='kde')"
   ]
  },
  {
   "cell_type": "code",
   "execution_count": 108,
   "metadata": {},
   "outputs": [],
   "source": [
    "data['LOT SIZE'].fillna(value=data['LOT SIZE'].mean(),inplace=True)"
   ]
  },
  {
   "cell_type": "code",
   "execution_count": 112,
   "metadata": {},
   "outputs": [],
   "source": [
    "data['YEAR BUILT'].fillna(value=data['YEAR BUILT'].median(),inplace=True)"
   ]
  },
  {
   "cell_type": "code",
   "execution_count": 114,
   "metadata": {},
   "outputs": [],
   "source": [
    "data['AGE'] = 2020 - data['YEAR BUILT']"
   ]
  },
  {
   "cell_type": "code",
   "execution_count": 115,
   "metadata": {},
   "outputs": [],
   "source": [
    "data.drop('YEAR BUILT',axis=1,inplace=True)"
   ]
  },
  {
   "cell_type": "code",
   "execution_count": 116,
   "metadata": {},
   "outputs": [
    {
     "data": {
      "text/plain": [
       "SALE TYPE         0\n",
       "PROPERTY TYPE     0\n",
       "PRICE             0\n",
       "BEDS              1\n",
       "BATHS             7\n",
       "SQUARE FEET       6\n",
       "LOT SIZE          0\n",
       "DAYS ON MARKET    0\n",
       "$/SQUARE FEET     6\n",
       "HOA/MONTH         0\n",
       "STATUS            0\n",
       "AGE               0\n",
       "dtype: int64"
      ]
     },
     "execution_count": 116,
     "metadata": {},
     "output_type": "execute_result"
    }
   ],
   "source": [
    "data.isna().sum()"
   ]
  },
  {
   "cell_type": "code",
   "execution_count": 119,
   "metadata": {},
   "outputs": [
    {
     "data": {
      "text/plain": [
       "<matplotlib.axes._subplots.AxesSubplot at 0x1225d643d68>"
      ]
     },
     "execution_count": 119,
     "metadata": {},
     "output_type": "execute_result"
    },
    {
     "data": {
      "image/png": "[encoded data removed]",
      "text/plain": [
       "<Figure size 432x288 with 1 Axes>"
      ]
     },
     "metadata": {
      "needs_background": "light"
     },
     "output_type": "display_data"
    }
   ],
   "source": [
    "data['SQUARE FEET'].plot(kind='kde')"
   ]
  },
  {
   "cell_type": "code",
   "execution_count": 123,
   "metadata": {},
   "outputs": [],
   "source": [
    "data['SQUARE FEET'].fillna(value=data['SQUARE FEET'].mean(),inplace=True)"
   ]
  },
  {
   "cell_type": "code",
   "execution_count": 130,
   "metadata": {},
   "outputs": [],
   "source": [
    "data['BATHS'].fillna(value=data['BATHS'].mean(),inplace=True)"
   ]
  },
  {
   "cell_type": "code",
   "execution_count": 131,
   "metadata": {},
   "outputs": [
    {
     "data": {
      "text/plain": [
       "(253, 12)"
      ]
     },
     "execution_count": 131,
     "metadata": {},
     "output_type": "execute_result"
    }
   ],
   "source": [
    "data.shape"
   ]
  },
  {
   "cell_type": "code",
   "execution_count": 134,
   "metadata": {},
   "outputs": [
    {
     "data": {
      "text/plain": [
       "SALE TYPE         0\n",
       "PROPERTY TYPE     0\n",
       "PRICE             0\n",
       "BEDS              1\n",
       "BATHS             0\n",
       "SQUARE FEET       0\n",
       "LOT SIZE          0\n",
       "DAYS ON MARKET    0\n",
       "$/SQUARE FEET     6\n",
       "HOA/MONTH         0\n",
       "STATUS            0\n",
       "AGE               0\n",
       "dtype: int64"
      ]
     },
     "execution_count": 134,
     "metadata": {},
     "output_type": "execute_result"
    }
   ],
   "source": [
    "data.isna().sum()"
   ]
  },
  {
   "cell_type": "code",
   "execution_count": 135,
   "metadata": {},
   "outputs": [],
   "source": [
    "data.dropna(inplace=True)"
   ]
  },
  {
   "cell_type": "code",
   "execution_count": 136,
   "metadata": {},
   "outputs": [
    {
     "data": {
      "text/plain": [
       "SALE TYPE         0\n",
       "PROPERTY TYPE     0\n",
       "PRICE             0\n",
       "BEDS              0\n",
       "BATHS             0\n",
       "SQUARE FEET       0\n",
       "LOT SIZE          0\n",
       "DAYS ON MARKET    0\n",
       "$/SQUARE FEET     0\n",
       "HOA/MONTH         0\n",
       "STATUS            0\n",
       "AGE               0\n",
       "dtype: int64"
      ]
     },
     "execution_count": 136,
     "metadata": {},
     "output_type": "execute_result"
    }
   ],
   "source": [
    "data.isna().sum()"
   ]
  },
  {
   "cell_type": "code",
   "execution_count": 140,
   "metadata": {},
   "outputs": [],
   "source": [
    "data.drop(['SALE TYPE'],axis=1,inplace=True)"
   ]
  },
  {
   "cell_type": "code",
   "execution_count": 139,
   "metadata": {},
   "outputs": [
    {
     "data": {
      "text/plain": [
       "Single Family Residential    117\n",
       "Condo/Co-op                  116\n",
       "Multi-Family (2-4 Unit)       13\n",
       "Name: PROPERTY TYPE, dtype: int64"
      ]
     },
     "execution_count": 139,
     "metadata": {},
     "output_type": "execute_result"
    }
   ],
   "source": [
    "data['PROPERTY TYPE'].value_counts()"
   ]
  },
  {
   "cell_type": "code",
   "execution_count": 141,
   "metadata": {},
   "outputs": [
    {
     "data": {
      "text/plain": [
       "Index(['PROPERTY TYPE', 'STATUS'], dtype='object')"
      ]
     },
     "execution_count": 141,
     "metadata": {},
     "output_type": "execute_result"
    }
   ],
   "source": [
    "data.select_dtypes(['object']).columns"
   ]
  },
  {
   "cell_type": "code",
   "execution_count": 144,
   "metadata": {},
   "outputs": [],
   "source": [
    "data.drop('STATUS',axis=1,inplace=True)"
   ]
  },
  {
   "cell_type": "code",
   "execution_count": 146,
   "metadata": {},
   "outputs": [
    {
     "data": {
      "text/plain": [
       "Index(['PROPERTY TYPE', 'PRICE', 'BEDS', 'BATHS', 'SQUARE FEET', 'LOT SIZE',\n",
       "       'DAYS ON MARKET', '$/SQUARE FEET', 'HOA/MONTH', 'AGE'],\n",
       "      dtype='object')"
      ]
     },
     "execution_count": 146,
     "metadata": {},
     "output_type": "execute_result"
    }
   ],
   "source": [
    "data.columns"
   ]
  },
  {
   "cell_type": "code",
   "execution_count": 147,
   "metadata": {},
   "outputs": [
    {
     "data": {
      "text/html": [
       "<div>\n",
       "<style scoped>\n",
       "    .dataframe tbody tr th:only-of-type {\n",
       "        vertical-align: middle;\n",
       "    }\n",
       "\n",
       "    .dataframe tbody tr th {\n",
       "        vertical-align: top;\n",
       "    }\n",
       "\n",
       "    .dataframe thead th {\n",
       "        text-align: right;\n",
       "    }\n",
       "</style>\n",
       "<table border=\"1\" class=\"dataframe\">\n",
       "  <thead>\n",
       "    <tr style=\"text-align: right;\">\n",
       "      <th></th>\n",
       "      <th>PROPERTY TYPE</th>\n",
       "      <th>PRICE</th>\n",
       "      <th>BEDS</th>\n",
       "      <th>BATHS</th>\n",
       "      <th>SQUARE FEET</th>\n",
       "      <th>LOT SIZE</th>\n",
       "      <th>DAYS ON MARKET</th>\n",
       "      <th>$/SQUARE FEET</th>\n",
       "      <th>HOA/MONTH</th>\n",
       "      <th>AGE</th>\n",
       "    </tr>\n",
       "  </thead>\n",
       "  <tbody>\n",
       "    <tr>\n",
       "      <th>0</th>\n",
       "      <td>Single Family Residential</td>\n",
       "      <td>849000</td>\n",
       "      <td>3.0</td>\n",
       "      <td>3.0</td>\n",
       "      <td>2597.0</td>\n",
       "      <td>1921.000000</td>\n",
       "      <td>74</td>\n",
       "      <td>327.0</td>\n",
       "      <td>550.0</td>\n",
       "      <td>33.0</td>\n",
       "    </tr>\n",
       "    <tr>\n",
       "      <th>1</th>\n",
       "      <td>Single Family Residential</td>\n",
       "      <td>1295000</td>\n",
       "      <td>4.0</td>\n",
       "      <td>3.5</td>\n",
       "      <td>3257.0</td>\n",
       "      <td>9056.000000</td>\n",
       "      <td>1</td>\n",
       "      <td>398.0</td>\n",
       "      <td>1182.2</td>\n",
       "      <td>0.0</td>\n",
       "    </tr>\n",
       "    <tr>\n",
       "      <th>2</th>\n",
       "      <td>Condo/Co-op</td>\n",
       "      <td>825000</td>\n",
       "      <td>4.0</td>\n",
       "      <td>3.5</td>\n",
       "      <td>3000.0</td>\n",
       "      <td>436.000000</td>\n",
       "      <td>3</td>\n",
       "      <td>275.0</td>\n",
       "      <td>500.0</td>\n",
       "      <td>19.0</td>\n",
       "    </tr>\n",
       "    <tr>\n",
       "      <th>3</th>\n",
       "      <td>Single Family Residential</td>\n",
       "      <td>1748999</td>\n",
       "      <td>5.0</td>\n",
       "      <td>4.5</td>\n",
       "      <td>4200.0</td>\n",
       "      <td>113840.000000</td>\n",
       "      <td>3</td>\n",
       "      <td>416.0</td>\n",
       "      <td>1182.2</td>\n",
       "      <td>68.0</td>\n",
       "    </tr>\n",
       "    <tr>\n",
       "      <th>4</th>\n",
       "      <td>Condo/Co-op</td>\n",
       "      <td>259900</td>\n",
       "      <td>2.0</td>\n",
       "      <td>1.0</td>\n",
       "      <td>950.0</td>\n",
       "      <td>480313.055556</td>\n",
       "      <td>3</td>\n",
       "      <td>274.0</td>\n",
       "      <td>1094.0</td>\n",
       "      <td>68.0</td>\n",
       "    </tr>\n",
       "  </tbody>\n",
       "</table>\n",
       "</div>"
      ],
      "text/plain": [
       "               PROPERTY TYPE    PRICE  BEDS  BATHS  SQUARE FEET  \\\n",
       "0  Single Family Residential   849000   3.0    3.0       2597.0   \n",
       "1  Single Family Residential  1295000   4.0    3.5       3257.0   \n",
       "2                Condo/Co-op   825000   4.0    3.5       3000.0   \n",
       "3  Single Family Residential  1748999   5.0    4.5       4200.0   \n",
       "4                Condo/Co-op   259900   2.0    1.0        950.0   \n",
       "\n",
       "        LOT SIZE  DAYS ON MARKET  $/SQUARE FEET  HOA/MONTH   AGE  \n",
       "0    1921.000000              74          327.0      550.0  33.0  \n",
       "1    9056.000000               1          398.0     1182.2   0.0  \n",
       "2     436.000000               3          275.0      500.0  19.0  \n",
       "3  113840.000000               3          416.0     1182.2  68.0  \n",
       "4  480313.055556               3          274.0     1094.0  68.0  "
      ]
     },
     "execution_count": 147,
     "metadata": {},
     "output_type": "execute_result"
    }
   ],
   "source": [
    "data.head()"
   ]
  },
  {
   "cell_type": "code",
   "execution_count": 148,
   "metadata": {},
   "outputs": [],
   "source": [
    "property_type = pd.get_dummies(data['PROPERTY TYPE'],drop_first=True)"
   ]
  },
  {
   "cell_type": "code",
   "execution_count": 149,
   "metadata": {},
   "outputs": [],
   "source": [
    "data = pd.concat([data.drop('PROPERTY TYPE',axis=1),property_type],axis=1)"
   ]
  },
  {
   "cell_type": "code",
   "execution_count": 156,
   "metadata": {},
   "outputs": [],
   "source": [
    "X = data.drop('PRICE',axis=1)\n",
    "y = data['PRICE']"
   ]
  },
  {
   "cell_type": "code",
   "execution_count": 159,
   "metadata": {},
   "outputs": [],
   "source": [
    "X = np.array(X)\n",
    "y = np.array(y)"
   ]
  },
  {
   "cell_type": "code",
   "execution_count": 166,
   "metadata": {},
   "outputs": [],
   "source": [
    "X_values = np.append(arr=np.ones((data.shape[0],1)),values = X,axis=1)"
   ]
  },
  {
   "cell_type": "code",
   "execution_count": 167,
   "metadata": {},
   "outputs": [],
   "source": [
    "w = np.linalg.solve(X_values.T.dot(X_values),X_values.T.dot(y))"
   ]
  },
  {
   "cell_type": "code",
   "execution_count": 168,
   "metadata": {},
   "outputs": [],
   "source": [
    "Yhat = X_values.dot(w)"
   ]
  },
  {
   "cell_type": "code",
   "execution_count": 170,
   "metadata": {},
   "outputs": [
    {
     "name": "stdout",
     "output_type": "stream",
     "text": [
      "0.9597679984726688\n"
     ]
    }
   ],
   "source": [
    "d1 =  y -Yhat\n",
    "d2 = y - y.mean()\n",
    "\n",
    "r2 = 1 - (d1.dot(d1) / d2.dot(d2))\n",
    "print(r2)"
   ]
  },
  {
   "cell_type": "code",
   "execution_count": 171,
   "metadata": {},
   "outputs": [],
   "source": [
    "y = np.log(y)"
   ]
  },
  {
   "cell_type": "code",
   "execution_count": 172,
   "metadata": {},
   "outputs": [],
   "source": [
    "w_1 = np.linalg.solve(X_values.T.dot(X_values),X_values.T.dot(y))"
   ]
  },
  {
   "cell_type": "code",
   "execution_count": 173,
   "metadata": {},
   "outputs": [],
   "source": [
    "Yhat_1 = X_values.dot(w_1)"
   ]
  },
  {
   "cell_type": "code",
   "execution_count": 174,
   "metadata": {},
   "outputs": [
    {
     "name": "stdout",
     "output_type": "stream",
     "text": [
      "0.9430099121900518\n"
     ]
    }
   ],
   "source": [
    "d1 =  y -Yhat_1\n",
    "d2 = y - y.mean()\n",
    "\n",
    "r2 = 1 - (d1.dot(d1) / d2.dot(d2))\n",
    "print(r2)"
   ]
  },
  {
   "cell_type": "markdown",
   "metadata": {},
   "source": [
    "### lets check if there are any outliers in the datset or not ?"
   ]
  },
  {
   "cell_type": "code",
   "execution_count": 181,
   "metadata": {},
   "outputs": [
    {
     "data": {
      "text/plain": [
       "246"
      ]
     },
     "execution_count": 181,
     "metadata": {},
     "output_type": "execute_result"
    }
   ],
   "source": [
    "len(data['PRICE'] > x)"
   ]
  },
  {
   "cell_type": "code",
   "execution_count": 180,
   "metadata": {},
   "outputs": [],
   "source": [
    "x = data['PRICE'].mean() + 3* data['PRICE'].std()"
   ]
  },
  {
   "cell_type": "code",
   "execution_count": 183,
   "metadata": {},
   "outputs": [
    {
     "data": {
      "text/plain": [
       "<matplotlib.axes._subplots.AxesSubplot at 0x1225ea8fe10>"
      ]
     },
     "execution_count": 183,
     "metadata": {},
     "output_type": "execute_result"
    },
    {
     "data": {
      "image/png": "[encoded data removed]",
      "text/plain": [
       "<Figure size 432x288 with 1 Axes>"
      ]
     },
     "metadata": {
      "needs_background": "light"
     },
     "output_type": "display_data"
    }
   ],
   "source": [
    "data['PRICE'].plot(kind='kde')"
   ]
  },
  {
   "cell_type": "markdown",
   "metadata": {},
   "source": [
    "### Going via scikit learn method"
   ]
  },
  {
   "cell_type": "code",
   "execution_count": 186,
   "metadata": {},
   "outputs": [],
   "source": [
    "from sklearn.model_selection import train_test_split"
   ]
  },
  {
   "cell_type": "code",
   "execution_count": 187,
   "metadata": {},
   "outputs": [],
   "source": [
    "X_train,X_test,Y_train,Y_test = train_test_split(X,y,test_size=0.3,random_state=10)"
   ]
  },
  {
   "cell_type": "code",
   "execution_count": 188,
   "metadata": {},
   "outputs": [
    {
     "data": {
      "text/plain": [
       "((172, 10), (74, 10), (172,), (74,))"
      ]
     },
     "execution_count": 188,
     "metadata": {},
     "output_type": "execute_result"
    }
   ],
   "source": [
    "X_train.shape,X_test.shape,Y_train.shape,Y_test.shape"
   ]
  },
  {
   "cell_type": "code",
   "execution_count": 189,
   "metadata": {},
   "outputs": [],
   "source": [
    "from sklearn.linear_model import LinearRegression"
   ]
  },
  {
   "cell_type": "code",
   "execution_count": 190,
   "metadata": {},
   "outputs": [],
   "source": [
    "LR = LinearRegression()"
   ]
  },
  {
   "cell_type": "code",
   "execution_count": 191,
   "metadata": {},
   "outputs": [
    {
     "data": {
      "text/plain": [
       "LinearRegression(copy_X=True, fit_intercept=True, n_jobs=None, normalize=False)"
      ]
     },
     "execution_count": 191,
     "metadata": {},
     "output_type": "execute_result"
    }
   ],
   "source": [
    "LR.fit(X_train,Y_train)"
   ]
  },
  {
   "cell_type": "code",
   "execution_count": 192,
   "metadata": {},
   "outputs": [],
   "source": [
    "y_pred = LR.predict(X_test)"
   ]
  },
  {
   "cell_type": "code",
   "execution_count": 193,
   "metadata": {},
   "outputs": [],
   "source": [
    "from sklearn.metrics import r2_score"
   ]
  },
  {
   "cell_type": "code",
   "execution_count": 194,
   "metadata": {},
   "outputs": [
    {
     "name": "stdout",
     "output_type": "stream",
     "text": [
      "0.92327729540575\n"
     ]
    }
   ],
   "source": [
    "print(r2_score(Y_test,y_pred))"
   ]
  },
  {
   "cell_type": "code",
   "execution_count": 197,
   "metadata": {},
   "outputs": [
    {
     "data": {
      "text/plain": [
       "<matplotlib.axes._subplots.AxesSubplot at 0x122601c7438>"
      ]
     },
     "execution_count": 197,
     "metadata": {},
     "output_type": "execute_result"
    },
    {
     "data": {
      "image/png": "[encoded data removed]",
      "text/plain": [
       "<Figure size 864x576 with 2 Axes>"
      ]
     },
     "metadata": {
      "needs_background": "light"
     },
     "output_type": "display_data"
    }
   ],
   "source": [
    "plt.figure(figsize=(12,8))\n",
    "sns.heatmap(data.corr(),annot=True)"
   ]
  },
  {
   "cell_type": "code",
   "execution_count": 198,
   "metadata": {},
   "outputs": [
    {
     "data": {
      "text/plain": [
       "<matplotlib.collections.PathCollection at 0x12260791b70>"
      ]
     },
     "execution_count": 198,
     "metadata": {},
     "output_type": "execute_result"
    },
    {
     "data": {
      "image/png": "[encoded data removed]",
      "text/plain": [
       "<Figure size 432x288 with 1 Axes>"
      ]
     },
     "metadata": {
      "needs_background": "light"
     },
     "output_type": "display_data"
    }
   ],
   "source": [
    "plt.scatter(data['SQUARE FEET'],data['BATHS'])"
   ]
  },
  {
   "cell_type": "code",
   "execution_count": 202,
   "metadata": {},
   "outputs": [],
   "source": [
    "m = data['PRICE'] > x"
   ]
  },
  {
   "cell_type": "code",
   "execution_count": 203,
   "metadata": {},
   "outputs": [
    {
     "data": {
      "text/html": [
       "<div>\n",
       "<style scoped>\n",
       "    .dataframe tbody tr th:only-of-type {\n",
       "        vertical-align: middle;\n",
       "    }\n",
       "\n",
       "    .dataframe tbody tr th {\n",
       "        vertical-align: top;\n",
       "    }\n",
       "\n",
       "    .dataframe thead th {\n",
       "        text-align: right;\n",
       "    }\n",
       "</style>\n",
       "<table border=\"1\" class=\"dataframe\">\n",
       "  <thead>\n",
       "    <tr style=\"text-align: right;\">\n",
       "      <th></th>\n",
       "      <th>PRICE</th>\n",
       "      <th>BEDS</th>\n",
       "      <th>BATHS</th>\n",
       "      <th>SQUARE FEET</th>\n",
       "      <th>LOT SIZE</th>\n",
       "      <th>DAYS ON MARKET</th>\n",
       "      <th>$/SQUARE FEET</th>\n",
       "      <th>HOA/MONTH</th>\n",
       "      <th>AGE</th>\n",
       "      <th>Multi-Family (2-4 Unit)</th>\n",
       "      <th>Single Family Residential</th>\n",
       "    </tr>\n",
       "  </thead>\n",
       "  <tbody>\n",
       "    <tr>\n",
       "      <th>148</th>\n",
       "      <td>3495000</td>\n",
       "      <td>7.0</td>\n",
       "      <td>6.0</td>\n",
       "      <td>7106.0</td>\n",
       "      <td>21209.000000</td>\n",
       "      <td>103</td>\n",
       "      <td>492.0</td>\n",
       "      <td>1182.2</td>\n",
       "      <td>0.0</td>\n",
       "      <td>0</td>\n",
       "      <td>1</td>\n",
       "    </tr>\n",
       "    <tr>\n",
       "      <th>193</th>\n",
       "      <td>3495000</td>\n",
       "      <td>7.0</td>\n",
       "      <td>7.5</td>\n",
       "      <td>7853.0</td>\n",
       "      <td>21780.000000</td>\n",
       "      <td>140</td>\n",
       "      <td>445.0</td>\n",
       "      <td>1182.2</td>\n",
       "      <td>0.0</td>\n",
       "      <td>0</td>\n",
       "      <td>1</td>\n",
       "    </tr>\n",
       "    <tr>\n",
       "      <th>194</th>\n",
       "      <td>9500000</td>\n",
       "      <td>6.0</td>\n",
       "      <td>7.0</td>\n",
       "      <td>11000.0</td>\n",
       "      <td>480313.055556</td>\n",
       "      <td>147</td>\n",
       "      <td>864.0</td>\n",
       "      <td>12340.0</td>\n",
       "      <td>12.0</td>\n",
       "      <td>0</td>\n",
       "      <td>0</td>\n",
       "    </tr>\n",
       "    <tr>\n",
       "      <th>239</th>\n",
       "      <td>4195000</td>\n",
       "      <td>3.0</td>\n",
       "      <td>2.5</td>\n",
       "      <td>5030.0</td>\n",
       "      <td>480313.055556</td>\n",
       "      <td>411</td>\n",
       "      <td>834.0</td>\n",
       "      <td>5611.0</td>\n",
       "      <td>13.0</td>\n",
       "      <td>0</td>\n",
       "      <td>0</td>\n",
       "    </tr>\n",
       "    <tr>\n",
       "      <th>248</th>\n",
       "      <td>4200000</td>\n",
       "      <td>3.0</td>\n",
       "      <td>3.5</td>\n",
       "      <td>5403.0</td>\n",
       "      <td>480313.055556</td>\n",
       "      <td>802</td>\n",
       "      <td>777.0</td>\n",
       "      <td>5853.0</td>\n",
       "      <td>12.0</td>\n",
       "      <td>0</td>\n",
       "      <td>0</td>\n",
       "    </tr>\n",
       "    <tr>\n",
       "      <th>249</th>\n",
       "      <td>3500000</td>\n",
       "      <td>4.0</td>\n",
       "      <td>3.5</td>\n",
       "      <td>5038.0</td>\n",
       "      <td>480313.055556</td>\n",
       "      <td>844</td>\n",
       "      <td>695.0</td>\n",
       "      <td>5848.0</td>\n",
       "      <td>12.0</td>\n",
       "      <td>0</td>\n",
       "      <td>0</td>\n",
       "    </tr>\n",
       "  </tbody>\n",
       "</table>\n",
       "</div>"
      ],
      "text/plain": [
       "       PRICE  BEDS  BATHS  SQUARE FEET       LOT SIZE  DAYS ON MARKET  \\\n",
       "148  3495000   7.0    6.0       7106.0   21209.000000             103   \n",
       "193  3495000   7.0    7.5       7853.0   21780.000000             140   \n",
       "194  9500000   6.0    7.0      11000.0  480313.055556             147   \n",
       "239  4195000   3.0    2.5       5030.0  480313.055556             411   \n",
       "248  4200000   3.0    3.5       5403.0  480313.055556             802   \n",
       "249  3500000   4.0    3.5       5038.0  480313.055556             844   \n",
       "\n",
       "     $/SQUARE FEET  HOA/MONTH   AGE  Multi-Family (2-4 Unit)  \\\n",
       "148          492.0     1182.2   0.0                        0   \n",
       "193          445.0     1182.2   0.0                        0   \n",
       "194          864.0    12340.0  12.0                        0   \n",
       "239          834.0     5611.0  13.0                        0   \n",
       "248          777.0     5853.0  12.0                        0   \n",
       "249          695.0     5848.0  12.0                        0   \n",
       "\n",
       "     Single Family Residential  \n",
       "148                          1  \n",
       "193                          1  \n",
       "194                          0  \n",
       "239                          0  \n",
       "248                          0  \n",
       "249                          0  "
      ]
     },
     "execution_count": 203,
     "metadata": {},
     "output_type": "execute_result"
    }
   ],
   "source": [
    "data[m]"
   ]
  },
  {
   "cell_type": "code",
   "execution_count": 205,
   "metadata": {},
   "outputs": [
    {
     "data": {
      "text/plain": [
       "2.5"
      ]
     },
     "execution_count": 205,
     "metadata": {},
     "output_type": "execute_result"
    }
   ],
   "source": [
    "6/240*100\n",
    "\n",
    "# So basically we have 2.5% of data as outliers in our dataset.So we can have"
   ]
  },
  {
   "cell_type": "code",
   "execution_count": 207,
   "metadata": {},
   "outputs": [
    {
     "data": {
      "text/plain": [
       "-1855977.5367201196"
      ]
     },
     "execution_count": 207,
     "metadata": {},
     "output_type": "execute_result"
    }
   ],
   "source": [
    "x1 = data['PRICE'].mean() - 3*data['PRICE'].std()\n",
    "x1"
   ]
  },
  {
   "cell_type": "markdown",
   "metadata": {},
   "source": [
    "### What we can do is we can clip our dataset or we can replace it with value of 'x'"
   ]
  },
  {
   "cell_type": "code",
   "execution_count": 208,
   "metadata": {},
   "outputs": [],
   "source": [
    "data['PRICE_new'] = np.where(data['PRICE']>x,x,(np.where(data['PRICE'] < x1,x1,data['PRICE'])))"
   ]
  },
  {
   "cell_type": "code",
   "execution_count": 212,
   "metadata": {},
   "outputs": [
    {
     "data": {
      "text/plain": [
       "<matplotlib.axes._subplots.AxesSubplot at 0x12260532b00>"
      ]
     },
     "execution_count": 212,
     "metadata": {},
     "output_type": "execute_result"
    },
    {
     "data": {
      "image/png": "[encoded data removed]",
      "text/plain": [
       "<Figure size 432x288 with 1 Axes>"
      ]
     },
     "metadata": {
      "needs_background": "light"
     },
     "output_type": "display_data"
    }
   ],
   "source": [
    "data['PRICE_new'].plot(kind='kde')"
   ]
  },
  {
   "cell_type": "code",
   "execution_count": 213,
   "metadata": {},
   "outputs": [
    {
     "data": {
      "text/plain": [
       "<matplotlib.axes._subplots.AxesSubplot at 0x12260de6940>"
      ]
     },
     "execution_count": 213,
     "metadata": {},
     "output_type": "execute_result"
    },
    {
     "data": {
      "image/png": "[encoded data removed]",
      "text/plain": [
       "<Figure size 432x288 with 1 Axes>"
      ]
     },
     "metadata": {
      "needs_background": "light"
     },
     "output_type": "display_data"
    }
   ],
   "source": [
    "data['PRICE'].plot(kind='kde')"
   ]
  },
  {
   "cell_type": "code",
   "execution_count": null,
   "metadata": {},
   "outputs": [],
   "source": []
  }
 ],
 "metadata": {
  "kernelspec": {
   "display_name": "Python 3",
   "language": "python",
   "name": "python3"
  },
  "language_info": {
   "codemirror_mode": {
    "name": "ipython",
    "version": 3
   },
   "file_extension": ".py",
   "mimetype": "text/x-python",
   "name": "python",
   "nbconvert_exporter": "python",
   "pygments_lexer": "ipython3",
   "version": "3.7.3"
  }
 },
 "nbformat": 4,
 "nbformat_minor": 2
}
