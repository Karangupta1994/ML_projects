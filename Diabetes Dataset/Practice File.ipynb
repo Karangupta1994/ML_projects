{
 "cells": [
  {
   "cell_type": "markdown",
   "metadata": {},
   "source": [
    "### Diabetes Dataset"
   ]
  },
  {
   "cell_type": "code",
   "execution_count": 1,
   "metadata": {},
   "outputs": [],
   "source": [
    "import pandas as pd\n",
    "import numpy as np\n",
    "import matplotlib.pyplot as plt\n",
    "import seaborn as sns\n",
    "from sortedcontainers import SortedList\n",
    "%matplotlib inline"
   ]
  },
  {
   "cell_type": "code",
   "execution_count": 3,
   "metadata": {},
   "outputs": [
    {
     "data": {
      "text/html": [
       "<div>\n",
       "<style scoped>\n",
       "    .dataframe tbody tr th:only-of-type {\n",
       "        vertical-align: middle;\n",
       "    }\n",
       "\n",
       "    .dataframe tbody tr th {\n",
       "        vertical-align: top;\n",
       "    }\n",
       "\n",
       "    .dataframe thead th {\n",
       "        text-align: right;\n",
       "    }\n",
       "</style>\n",
       "<table border=\"1\" class=\"dataframe\">\n",
       "  <thead>\n",
       "    <tr style=\"text-align: right;\">\n",
       "      <th></th>\n",
       "      <th>Pregnancies</th>\n",
       "      <th>Glucose</th>\n",
       "      <th>BloodPressure</th>\n",
       "      <th>SkinThickness</th>\n",
       "      <th>Insulin</th>\n",
       "      <th>BMI</th>\n",
       "      <th>DiabetesPedigreeFunction</th>\n",
       "      <th>Age</th>\n",
       "      <th>Outcome</th>\n",
       "    </tr>\n",
       "  </thead>\n",
       "  <tbody>\n",
       "    <tr>\n",
       "      <th>0</th>\n",
       "      <td>6</td>\n",
       "      <td>148</td>\n",
       "      <td>72</td>\n",
       "      <td>35</td>\n",
       "      <td>0</td>\n",
       "      <td>33.6</td>\n",
       "      <td>0.627</td>\n",
       "      <td>50</td>\n",
       "      <td>1</td>\n",
       "    </tr>\n",
       "    <tr>\n",
       "      <th>1</th>\n",
       "      <td>1</td>\n",
       "      <td>85</td>\n",
       "      <td>66</td>\n",
       "      <td>29</td>\n",
       "      <td>0</td>\n",
       "      <td>26.6</td>\n",
       "      <td>0.351</td>\n",
       "      <td>31</td>\n",
       "      <td>0</td>\n",
       "    </tr>\n",
       "    <tr>\n",
       "      <th>2</th>\n",
       "      <td>8</td>\n",
       "      <td>183</td>\n",
       "      <td>64</td>\n",
       "      <td>0</td>\n",
       "      <td>0</td>\n",
       "      <td>23.3</td>\n",
       "      <td>0.672</td>\n",
       "      <td>32</td>\n",
       "      <td>1</td>\n",
       "    </tr>\n",
       "    <tr>\n",
       "      <th>3</th>\n",
       "      <td>1</td>\n",
       "      <td>89</td>\n",
       "      <td>66</td>\n",
       "      <td>23</td>\n",
       "      <td>94</td>\n",
       "      <td>28.1</td>\n",
       "      <td>0.167</td>\n",
       "      <td>21</td>\n",
       "      <td>0</td>\n",
       "    </tr>\n",
       "    <tr>\n",
       "      <th>4</th>\n",
       "      <td>0</td>\n",
       "      <td>137</td>\n",
       "      <td>40</td>\n",
       "      <td>35</td>\n",
       "      <td>168</td>\n",
       "      <td>43.1</td>\n",
       "      <td>2.288</td>\n",
       "      <td>33</td>\n",
       "      <td>1</td>\n",
       "    </tr>\n",
       "  </tbody>\n",
       "</table>\n",
       "</div>"
      ],
      "text/plain": [
       "   Pregnancies  Glucose  BloodPressure  SkinThickness  Insulin   BMI  \\\n",
       "0            6      148             72             35        0  33.6   \n",
       "1            1       85             66             29        0  26.6   \n",
       "2            8      183             64              0        0  23.3   \n",
       "3            1       89             66             23       94  28.1   \n",
       "4            0      137             40             35      168  43.1   \n",
       "\n",
       "   DiabetesPedigreeFunction  Age  Outcome  \n",
       "0                     0.627   50        1  \n",
       "1                     0.351   31        0  \n",
       "2                     0.672   32        1  \n",
       "3                     0.167   21        0  \n",
       "4                     2.288   33        1  "
      ]
     },
     "execution_count": 3,
     "metadata": {},
     "output_type": "execute_result"
    }
   ],
   "source": [
    "data = pd.read_csv('diabetes.csv')\n",
    "data.head()"
   ]
  },
  {
   "cell_type": "code",
   "execution_count": 4,
   "metadata": {},
   "outputs": [
    {
     "data": {
      "text/plain": [
       "Pregnancies                 0\n",
       "Glucose                     0\n",
       "BloodPressure               0\n",
       "SkinThickness               0\n",
       "Insulin                     0\n",
       "BMI                         0\n",
       "DiabetesPedigreeFunction    0\n",
       "Age                         0\n",
       "Outcome                     0\n",
       "dtype: int64"
      ]
     },
     "execution_count": 4,
     "metadata": {},
     "output_type": "execute_result"
    }
   ],
   "source": [
    "data.isna().sum()"
   ]
  },
  {
   "cell_type": "code",
   "execution_count": 6,
   "metadata": {},
   "outputs": [
    {
     "data": {
      "text/plain": [
       "0    500\n",
       "1    268\n",
       "Name: Outcome, dtype: int64"
      ]
     },
     "execution_count": 6,
     "metadata": {},
     "output_type": "execute_result"
    }
   ],
   "source": [
    "data['Outcome'].value_counts()"
   ]
  },
  {
   "cell_type": "markdown",
   "metadata": {},
   "source": [
    "### First lets try using Scikit Learn method"
   ]
  },
  {
   "cell_type": "code",
   "execution_count": 14,
   "metadata": {},
   "outputs": [],
   "source": [
    "from sklearn.neighbors import KNeighborsClassifier\n",
    "from sklearn.model_selection import train_test_split\n",
    "from sklearn.metrics import recall_score,precision_score"
   ]
  },
  {
   "cell_type": "code",
   "execution_count": 9,
   "metadata": {},
   "outputs": [],
   "source": [
    "X = data.drop('Outcome',axis=1)\n",
    "y = data['Outcome']"
   ]
  },
  {
   "cell_type": "code",
   "execution_count": 10,
   "metadata": {},
   "outputs": [],
   "source": [
    "X_train,X_test,y_train,y_test = train_test_split(X,y,test_size=0.3,random_state=42)"
   ]
  },
  {
   "cell_type": "code",
   "execution_count": 13,
   "metadata": {},
   "outputs": [
    {
     "data": {
      "text/plain": [
       "((537, 8), (537,), (231, 8), (231,))"
      ]
     },
     "execution_count": 13,
     "metadata": {},
     "output_type": "execute_result"
    }
   ],
   "source": [
    "X_train.shape,y_train.shape,X_test.shape,y_test.shape"
   ]
  },
  {
   "cell_type": "code",
   "execution_count": 39,
   "metadata": {},
   "outputs": [],
   "source": [
    "KNN = KNeighborsClassifier(n_neighbors=12)"
   ]
  },
  {
   "cell_type": "code",
   "execution_count": 40,
   "metadata": {},
   "outputs": [
    {
     "data": {
      "text/plain": [
       "KNeighborsClassifier(algorithm='auto', leaf_size=30, metric='minkowski',\n",
       "                     metric_params=None, n_jobs=None, n_neighbors=12, p=2,\n",
       "                     weights='uniform')"
      ]
     },
     "execution_count": 40,
     "metadata": {},
     "output_type": "execute_result"
    }
   ],
   "source": [
    "KNN.fit(X_train,y_train)"
   ]
  },
  {
   "cell_type": "code",
   "execution_count": 41,
   "metadata": {},
   "outputs": [],
   "source": [
    "y_pred = KNN.predict(X_test)"
   ]
  },
  {
   "cell_type": "code",
   "execution_count": 42,
   "metadata": {},
   "outputs": [
    {
     "name": "stdout",
     "output_type": "stream",
     "text": [
      "Recall value is : 0.475\n"
     ]
    }
   ],
   "source": [
    "print(\"Recall value is :\",recall_score(y_test,y_pred))"
   ]
  },
  {
   "cell_type": "code",
   "execution_count": 43,
   "metadata": {},
   "outputs": [
    {
     "name": "stdout",
     "output_type": "stream",
     "text": [
      "Precision value is : 0.6785714285714286\n"
     ]
    }
   ],
   "source": [
    "print(\"Precision value is :\",precision_score(y_test,y_pred))"
   ]
  },
  {
   "cell_type": "markdown",
   "metadata": {},
   "source": [
    "### Lets select the value of K using cross validation method"
   ]
  },
  {
   "cell_type": "code",
   "execution_count": 20,
   "metadata": {},
   "outputs": [],
   "source": [
    "from sklearn.model_selection import cross_val_score"
   ]
  },
  {
   "cell_type": "code",
   "execution_count": 34,
   "metadata": {},
   "outputs": [],
   "source": [
    "cross_val_values = []\n",
    "for i in range(5,22):\n",
    "    score = cross_val_score(KNN,X_train,y_train,cv=i)\n",
    "    cross_val_values.append(score.mean())"
   ]
  },
  {
   "cell_type": "code",
   "execution_count": 38,
   "metadata": {},
   "outputs": [
    {
     "data": {
      "text/plain": [
       "[0.7298892350294219,\n",
       " 0.722513524760716,\n",
       " 0.7375500439410213,\n",
       " 0.7374067164179106,\n",
       " 0.7320150659133708,\n",
       " 0.7338574423480083,\n",
       " 0.735621521335807,\n",
       " 0.7394360269360271,\n",
       " 0.7392120075046905,\n",
       " 0.737372276845961,\n",
       " 0.7393121693121693,\n",
       " 0.7430369875222816,\n",
       " 0.7338709677419355,\n",
       " 0.735632183908046,\n",
       " 0.7371013741249676,\n",
       " 0.7337606837606837,\n",
       " 0.7356043956043956]"
      ]
     },
     "execution_count": 38,
     "metadata": {},
     "output_type": "execute_result"
    }
   ],
   "source": [
    "cross_val_values"
   ]
  },
  {
   "cell_type": "markdown",
   "metadata": {},
   "source": [
    "### Lets try writing our own Algorithm"
   ]
  },
  {
   "cell_type": "code",
   "execution_count": 64,
   "metadata": {},
   "outputs": [],
   "source": [
    "import pandas as pd\n",
    "import numpy as np\n",
    "import matplotlib.pyplot as plt\n",
    "from datetime import datetime\n",
    "from sortedcontainers import SortedList\n",
    "%matplotlib inline"
   ]
  },
  {
   "cell_type": "code",
   "execution_count": 62,
   "metadata": {},
   "outputs": [],
   "source": [
    "def get_data(limit=None):\n",
    "    print(\"Reading the dataset\")\n",
    "    df = pd.read_csv('diabetes.csv')\n",
    "    X = df.drop('Outcome',axis=1).values\n",
    "    Y = df['Outcome'].values\n",
    "    \n",
    "    if limit is not None:\n",
    "        X,Y = X[:limit],Y[:limit]\n",
    "    return X,Y"
   ]
  },
  {
   "cell_type": "code",
   "execution_count": 73,
   "metadata": {},
   "outputs": [
    {
     "name": "stdout",
     "output_type": "stream",
     "text": [
      "Reading the dataset\n",
      "Time taken to fit the model is : 0:00:00\n",
      "Score is 0.838\n",
      "Time for train score is : 0:00:00.859235\n",
      "Score is 0.5522388059701493\n",
      "Time for test score is : 0:00:00.235268\n",
      "----------------------------------------------------------\n",
      "Time taken to fit the model is : 0:00:00\n",
      "Score is 0.892\n",
      "Time for train score is : 0:00:00.756234\n",
      "Score is 0.5447761194029851\n",
      "Time for test score is : 0:00:00.226829\n",
      "----------------------------------------------------------\n",
      "Time taken to fit the model is : 0:00:00\n",
      "Score is 0.786\n",
      "Time for train score is : 0:00:00.741462\n",
      "Score is 0.6194029850746269\n",
      "Time for test score is : 0:00:00.255604\n",
      "----------------------------------------------------------\n",
      "Time taken to fit the model is : 0:00:00\n",
      "Score is 0.848\n",
      "Time for train score is : 0:00:00.940943\n",
      "Score is 0.5932835820895522\n",
      "Time for test score is : 0:00:00.232775\n",
      "----------------------------------------------------------\n",
      "Time taken to fit the model is : 0:00:00\n",
      "Score is 0.77\n",
      "Time for train score is : 0:00:00.796873\n",
      "Score is 0.6417910447761194\n",
      "Time for test score is : 0:00:00.218464\n",
      "----------------------------------------------------------\n",
      "Time taken to fit the model is : 0:00:00\n",
      "Score is 0.836\n",
      "Time for train score is : 0:00:00.847347\n",
      "Score is 0.5932835820895522\n",
      "Time for test score is : 0:00:00.225173\n",
      "----------------------------------------------------------\n",
      "Time taken to fit the model is : 0:00:00\n",
      "Score is 0.764\n",
      "Time for train score is : 0:00:00.759908\n",
      "Score is 0.6343283582089553\n",
      "Time for test score is : 0:00:00.237356\n",
      "----------------------------------------------------------\n"
     ]
    }
   ],
   "source": [
    "class KNN(object):\n",
    "    \n",
    "    def __init__(self,k):\n",
    "        self.k = k\n",
    "    \n",
    "    def fit(self,X,Y):\n",
    "        self.X = X\n",
    "        self.Y = Y\n",
    "    \n",
    "    def score(self,X,Y):\n",
    "        P = self.predict(X)\n",
    "        return np.mean(Y ==P)\n",
    "    \n",
    "    def predict(self,X):\n",
    "        y = np.zeros(len(X))\n",
    "        for i,x in enumerate(X):\n",
    "            sl = SortedList()\n",
    "            for j,xt in enumerate(X):\n",
    "                diff = x-xt\n",
    "                d = diff.dot(diff)\n",
    "                \n",
    "                if len(sl) < self.k:\n",
    "                    sl.add((d,self.Y[j]))\n",
    "                else:\n",
    "                    if d < sl[-1][0]:\n",
    "                        del sl[-1]\n",
    "                        sl.add((d,self.Y[j]))\n",
    "            values = {}\n",
    "            for _,v in sl:\n",
    "                values[v] = values.get(v,0)+1\n",
    "            \n",
    "            max_count = 0\n",
    "            max_class =-1\n",
    "            \n",
    "            for v,count in values.items():\n",
    "                if count > max_count:\n",
    "                    max_count = count\n",
    "                    max_class = v\n",
    "            y[i] = max_class\n",
    "        return y\n",
    "\n",
    "if __name__ == \"__main__\":\n",
    "    X,Y = get_data()\n",
    "    N =500\n",
    "    Xtrain,Ytrain = X[:N],Y[:N]\n",
    "    Xtest,Ytest = X[N:],Y[N:]\n",
    "    \n",
    "    for k in range(3,10):\n",
    "        t0 = datetime.now()\n",
    "        knn = KNN(k)\n",
    "        knn.fit(Xtrain,Ytrain)\n",
    "        print(\"Time taken to fit the model is :\",datetime.now()-t0)\n",
    "        \n",
    "        t1 = datetime.now()\n",
    "        print(\"Score is\",knn.score(Xtrain,Ytrain))\n",
    "        print(\"Time for train score is :\",datetime.now()-t1)\n",
    "        \n",
    "        t1 = datetime.now()\n",
    "        print(\"Score is\",knn.score(Xtest,Ytest))\n",
    "        print(\"Time for test score is :\",datetime.now()-t1)\n",
    "        \n",
    "        print('----------------------------------------------------------')"
   ]
  },
  {
   "cell_type": "code",
   "execution_count": 68,
   "metadata": {},
   "outputs": [
    {
     "name": "stdout",
     "output_type": "stream",
     "text": [
      "Reading the dataset\n"
     ]
    }
   ],
   "source": [
    "X,Y = get_data()"
   ]
  },
  {
   "cell_type": "code",
   "execution_count": 69,
   "metadata": {},
   "outputs": [
    {
     "data": {
      "text/plain": [
       "(768, 8)"
      ]
     },
     "execution_count": 69,
     "metadata": {},
     "output_type": "execute_result"
    }
   ],
   "source": [
    "X.shape"
   ]
  },
  {
   "cell_type": "code",
   "execution_count": 70,
   "metadata": {},
   "outputs": [
    {
     "data": {
      "text/plain": [
       "(768,)"
      ]
     },
     "execution_count": 70,
     "metadata": {},
     "output_type": "execute_result"
    }
   ],
   "source": [
    "Y.shape"
   ]
  },
  {
   "cell_type": "code",
   "execution_count": null,
   "metadata": {},
   "outputs": [],
   "source": []
  }
 ],
 "metadata": {
  "kernelspec": {
   "display_name": "Python 3",
   "language": "python",
   "name": "python3"
  },
  "language_info": {
   "codemirror_mode": {
    "name": "ipython",
    "version": 3
   },
   "file_extension": ".py",
   "mimetype": "text/x-python",
   "name": "python",
   "nbconvert_exporter": "python",
   "pygments_lexer": "ipython3",
   "version": "3.7.3"
  }
 },
 "nbformat": 4,
 "nbformat_minor": 2
}
