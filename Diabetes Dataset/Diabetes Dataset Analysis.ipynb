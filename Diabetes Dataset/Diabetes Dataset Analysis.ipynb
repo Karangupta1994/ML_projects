{
 "cells": [
  {
   "cell_type": "code",
   "execution_count": 1,
   "metadata": {},
   "outputs": [],
   "source": [
    "import numpy as np\n",
    "import pandas as pd\n",
    "import matplotlib.pyplot as plt\n",
    "%matplotlib inline"
   ]
  },
  {
   "cell_type": "code",
   "execution_count": 2,
   "metadata": {},
   "outputs": [
    {
     "data": {
      "text/html": [
       "<div>\n",
       "<style scoped>\n",
       "    .dataframe tbody tr th:only-of-type {\n",
       "        vertical-align: middle;\n",
       "    }\n",
       "\n",
       "    .dataframe tbody tr th {\n",
       "        vertical-align: top;\n",
       "    }\n",
       "\n",
       "    .dataframe thead th {\n",
       "        text-align: right;\n",
       "    }\n",
       "</style>\n",
       "<table border=\"1\" class=\"dataframe\">\n",
       "  <thead>\n",
       "    <tr style=\"text-align: right;\">\n",
       "      <th></th>\n",
       "      <th>Pregnancies</th>\n",
       "      <th>Glucose</th>\n",
       "      <th>BloodPressure</th>\n",
       "      <th>SkinThickness</th>\n",
       "      <th>Insulin</th>\n",
       "      <th>BMI</th>\n",
       "      <th>DiabetesPedigreeFunction</th>\n",
       "      <th>Age</th>\n",
       "      <th>Outcome</th>\n",
       "    </tr>\n",
       "  </thead>\n",
       "  <tbody>\n",
       "    <tr>\n",
       "      <th>0</th>\n",
       "      <td>6</td>\n",
       "      <td>148</td>\n",
       "      <td>72</td>\n",
       "      <td>35</td>\n",
       "      <td>0</td>\n",
       "      <td>33.6</td>\n",
       "      <td>0.627</td>\n",
       "      <td>50</td>\n",
       "      <td>1</td>\n",
       "    </tr>\n",
       "    <tr>\n",
       "      <th>1</th>\n",
       "      <td>1</td>\n",
       "      <td>85</td>\n",
       "      <td>66</td>\n",
       "      <td>29</td>\n",
       "      <td>0</td>\n",
       "      <td>26.6</td>\n",
       "      <td>0.351</td>\n",
       "      <td>31</td>\n",
       "      <td>0</td>\n",
       "    </tr>\n",
       "    <tr>\n",
       "      <th>2</th>\n",
       "      <td>8</td>\n",
       "      <td>183</td>\n",
       "      <td>64</td>\n",
       "      <td>0</td>\n",
       "      <td>0</td>\n",
       "      <td>23.3</td>\n",
       "      <td>0.672</td>\n",
       "      <td>32</td>\n",
       "      <td>1</td>\n",
       "    </tr>\n",
       "    <tr>\n",
       "      <th>3</th>\n",
       "      <td>1</td>\n",
       "      <td>89</td>\n",
       "      <td>66</td>\n",
       "      <td>23</td>\n",
       "      <td>94</td>\n",
       "      <td>28.1</td>\n",
       "      <td>0.167</td>\n",
       "      <td>21</td>\n",
       "      <td>0</td>\n",
       "    </tr>\n",
       "    <tr>\n",
       "      <th>4</th>\n",
       "      <td>0</td>\n",
       "      <td>137</td>\n",
       "      <td>40</td>\n",
       "      <td>35</td>\n",
       "      <td>168</td>\n",
       "      <td>43.1</td>\n",
       "      <td>2.288</td>\n",
       "      <td>33</td>\n",
       "      <td>1</td>\n",
       "    </tr>\n",
       "  </tbody>\n",
       "</table>\n",
       "</div>"
      ],
      "text/plain": [
       "   Pregnancies  Glucose  BloodPressure  SkinThickness  Insulin   BMI  \\\n",
       "0            6      148             72             35        0  33.6   \n",
       "1            1       85             66             29        0  26.6   \n",
       "2            8      183             64              0        0  23.3   \n",
       "3            1       89             66             23       94  28.1   \n",
       "4            0      137             40             35      168  43.1   \n",
       "\n",
       "   DiabetesPedigreeFunction  Age  Outcome  \n",
       "0                     0.627   50        1  \n",
       "1                     0.351   31        0  \n",
       "2                     0.672   32        1  \n",
       "3                     0.167   21        0  \n",
       "4                     2.288   33        1  "
      ]
     },
     "execution_count": 2,
     "metadata": {},
     "output_type": "execute_result"
    }
   ],
   "source": [
    "data = pd.read_csv('diabetes.csv')\n",
    "data.head()"
   ]
  },
  {
   "cell_type": "code",
   "execution_count": 3,
   "metadata": {},
   "outputs": [
    {
     "data": {
      "text/plain": [
       "Pregnancies                 0\n",
       "Glucose                     0\n",
       "BloodPressure               0\n",
       "SkinThickness               0\n",
       "Insulin                     0\n",
       "BMI                         0\n",
       "DiabetesPedigreeFunction    0\n",
       "Age                         0\n",
       "Outcome                     0\n",
       "dtype: int64"
      ]
     },
     "execution_count": 3,
     "metadata": {},
     "output_type": "execute_result"
    }
   ],
   "source": [
    "### Check is there any null values in the dataset\n",
    "\n",
    "data.isna().sum()"
   ]
  },
  {
   "cell_type": "code",
   "execution_count": 4,
   "metadata": {},
   "outputs": [
    {
     "data": {
      "text/plain": [
       "array([1, 0], dtype=int64)"
      ]
     },
     "execution_count": 4,
     "metadata": {},
     "output_type": "execute_result"
    }
   ],
   "source": [
    "data['Outcome'].unique()\n",
    "\n",
    "## Here only target variable has 2 unique values 0/1, all other values in the dataset are continuous values"
   ]
  },
  {
   "cell_type": "markdown",
   "metadata": {},
   "source": [
    "### Lets First run this using KNN, using the inbuilt Scikit-Learn Libraries"
   ]
  },
  {
   "cell_type": "code",
   "execution_count": 48,
   "metadata": {},
   "outputs": [],
   "source": [
    "from sklearn.model_selection import train_test_split\n",
    "from sklearn.neighbors import KNeighborsClassifier"
   ]
  },
  {
   "cell_type": "code",
   "execution_count": 49,
   "metadata": {},
   "outputs": [],
   "source": [
    "X = data.drop('Outcome',axis=1)\n",
    "Y = data['Outcome']"
   ]
  },
  {
   "cell_type": "code",
   "execution_count": 50,
   "metadata": {},
   "outputs": [],
   "source": [
    "X_train,X_test,Y_train,Y_test = train_test_split(X,Y,test_size=0.3,random_state=42)"
   ]
  },
  {
   "cell_type": "code",
   "execution_count": 51,
   "metadata": {},
   "outputs": [
    {
     "name": "stdout",
     "output_type": "stream",
     "text": [
      "Shape of X_train is : (537, 8)\n",
      "Shape of X_test is : (231, 8)\n",
      "Shape of Y_train is : (537,)\n",
      "Shape of Y_test is : (231,)\n"
     ]
    }
   ],
   "source": [
    "print(\"Shape of X_train is :\",X_train.shape)\n",
    "print(\"Shape of X_test is :\",X_test.shape)\n",
    "print(\"Shape of Y_train is :\",Y_train.shape)\n",
    "print(\"Shape of Y_test is :\",Y_test.shape)"
   ]
  },
  {
   "cell_type": "markdown",
   "metadata": {},
   "source": [
    "Let's initialize the model first:"
   ]
  },
  {
   "cell_type": "code",
   "execution_count": 52,
   "metadata": {},
   "outputs": [],
   "source": [
    "KNN = KNeighborsClassifier(n_neighbors=7)"
   ]
  },
  {
   "cell_type": "code",
   "execution_count": 53,
   "metadata": {},
   "outputs": [
    {
     "data": {
      "text/plain": [
       "KNeighborsClassifier(algorithm='auto', leaf_size=30, metric='minkowski',\n",
       "                     metric_params=None, n_jobs=None, n_neighbors=7, p=2,\n",
       "                     weights='uniform')"
      ]
     },
     "execution_count": 53,
     "metadata": {},
     "output_type": "execute_result"
    }
   ],
   "source": [
    "## First fit the model using training dataset\n",
    "\n",
    "KNN.fit(X_train,Y_train)"
   ]
  },
  {
   "cell_type": "code",
   "execution_count": 54,
   "metadata": {},
   "outputs": [],
   "source": [
    "### Predict the values using X_test set\n",
    "\n",
    "Y_pred = KNN.predict(X_test)"
   ]
  },
  {
   "cell_type": "code",
   "execution_count": 55,
   "metadata": {},
   "outputs": [
    {
     "name": "stdout",
     "output_type": "stream",
     "text": [
      "The accuracy of the model is : 0.6926406926406926\n"
     ]
    }
   ],
   "source": [
    "### Check the accuracy of the model\n",
    "\n",
    "print(\"The accuracy of the model is :\",KNN.score(X_test,Y_test))"
   ]
  },
  {
   "cell_type": "markdown",
   "metadata": {},
   "source": [
    "### So,in the above we can see that the model accuracy is 69%. So now check/improve the accuarcy of the model using Cross validation."
   ]
  },
  {
   "cell_type": "markdown",
   "metadata": {},
   "source": [
    "#### 1. Cross-Validation Method"
   ]
  },
  {
   "cell_type": "code",
   "execution_count": 13,
   "metadata": {},
   "outputs": [],
   "source": [
    "from sklearn.model_selection import cross_val_score"
   ]
  },
  {
   "cell_type": "code",
   "execution_count": 14,
   "metadata": {
    "scrolled": true
   },
   "outputs": [
    {
     "name": "stdout",
     "output_type": "stream",
     "text": [
      "[0.77777778 0.73148148 0.69158879 0.72897196 0.71962617]\n",
      "Mean scores is : 0.7298892350294219\n"
     ]
    }
   ],
   "source": [
    "### create a new KNN model\n",
    "\n",
    "KNN_cv = KNeighborsClassifier(n_neighbors=9)\n",
    "\n",
    "### train model with cross validation of 5\n",
    "\n",
    "cv_scores = cross_val_score(KNN_cv,X_train,Y_train,cv=5)\n",
    "\n",
    "print(cv_scores)\n",
    "print(\"Mean scores is :\",np.mean(cv_scores))"
   ]
  },
  {
   "cell_type": "markdown",
   "metadata": {},
   "source": [
    "#### In the above, we will change the value of 'K' and see which value of 'k', will give us the higher value of mean scores.As an example I change of value of k to 3,5,7,9 and k=9 gives us the highest mean score"
   ]
  },
  {
   "cell_type": "code",
   "execution_count": 40,
   "metadata": {},
   "outputs": [
    {
     "data": {
      "text/plain": [
       "KNeighborsClassifier(algorithm='auto', leaf_size=30, metric='minkowski',\n",
       "                     metric_params=None, n_jobs=None, n_neighbors=9, p=2,\n",
       "                     weights='uniform')"
      ]
     },
     "execution_count": 40,
     "metadata": {},
     "output_type": "execute_result"
    }
   ],
   "source": [
    "KNN_new = KNeighborsClassifier(n_neighbors=9)\n",
    "KNN_new.fit(X_train,Y_train)"
   ]
  },
  {
   "cell_type": "code",
   "execution_count": 41,
   "metadata": {},
   "outputs": [
    {
     "name": "stdout",
     "output_type": "stream",
     "text": [
      "The accuracy of the model is : 0.7012987012987013\n"
     ]
    }
   ],
   "source": [
    "print(\"The accuracy of the model is :\",KNN_new.score(X_test,Y_test))"
   ]
  },
  {
   "cell_type": "markdown",
   "metadata": {},
   "source": [
    "#### So,we can see that the accuracy of the model improves to 70%"
   ]
  },
  {
   "cell_type": "markdown",
   "metadata": {},
   "source": [
    "## Now Lets Try this problem by writing our own Algorithm"
   ]
  },
  {
   "cell_type": "code",
   "execution_count": 27,
   "metadata": {},
   "outputs": [],
   "source": [
    "import numpy as np\n",
    "import pandas as pd\n",
    "from sortedcontainers import SortedList\n",
    "from datetime import datetime\n",
    "import matplotlib.pyplot as plt\n",
    "%matplotlib inline"
   ]
  },
  {
   "cell_type": "code",
   "execution_count": 33,
   "metadata": {},
   "outputs": [],
   "source": [
    "def get_data(limit=None):\n",
    "    df = pd.read_csv('diabetes.csv')\n",
    "    data = df.values\n",
    "    np.random.shuffle(data)\n",
    "    \n",
    "    X,Y = data[:,:-1],data[:,-1]\n",
    "    \n",
    "    if limit is not None:\n",
    "        X,Y = X[:limit],Y[:limit]\n",
    "    return X,Y"
   ]
  },
  {
   "cell_type": "code",
   "execution_count": 41,
   "metadata": {},
   "outputs": [
    {
     "name": "stdout",
     "output_type": "stream",
     "text": [
      "Time taken for fitting the training set is : 0:00:00\n",
      "Training accuracy is : 0.858\n",
      "Time taken to calculate the training accuracy is: 0:00:02.468713\n",
      "Testing accuracy is : 0.5447761194029851\n",
      "Time taken to calculate the testing set accuracy is: 0:00:01.074630\n",
      "----------------------------------------------------------------------------------\n",
      "Time taken for fitting the training set is : 0:00:00\n",
      "Training accuracy is : 0.796\n",
      "Time taken to calculate the training accuracy is: 0:00:02.719728\n",
      "Testing accuracy is : 0.5932835820895522\n",
      "Time taken to calculate the testing set accuracy is: 0:00:00.697053\n",
      "----------------------------------------------------------------------------------\n",
      "Time taken for fitting the training set is : 0:00:00\n",
      "Training accuracy is : 0.78\n",
      "Time taken to calculate the training accuracy is: 0:00:02.514950\n",
      "Testing accuracy is : 0.6082089552238806\n",
      "Time taken to calculate the testing set accuracy is: 0:00:00.700187\n",
      "----------------------------------------------------------------------------------\n",
      "Time taken for fitting the training set is : 0:00:00\n",
      "Training accuracy is : 0.79\n",
      "Time taken to calculate the training accuracy is: 0:00:02.313834\n",
      "Testing accuracy is : 0.6082089552238806\n",
      "Time taken to calculate the testing set accuracy is: 0:00:00.658546\n",
      "----------------------------------------------------------------------------------\n"
     ]
    }
   ],
   "source": [
    "class KNN(object):\n",
    "    \n",
    "    def __init__(self,k):\n",
    "        self.k = k\n",
    "        \n",
    "    def fit(self,X,y):\n",
    "        self.X = X\n",
    "        self.y = y\n",
    "    \n",
    "    def score(self,X,Y):\n",
    "        P = self.predict(X)\n",
    "        return np.mean(P==Y)\n",
    "    \n",
    "    def predict(self,X):\n",
    "        y = np.zeros(len(X))\n",
    "        \n",
    "        for i,x in enumerate(X):\n",
    "            SL =SortedList()\n",
    "            for j , xt in enumerate(X):\n",
    "                diff = x-xt\n",
    "                d = diff.dot(diff)\n",
    "                \n",
    "                if len(SL) < self.k:\n",
    "                    SL.add((d,self.y[j]))\n",
    "                else:\n",
    "                    if d < SL[-1][0]:\n",
    "                        del SL[-1]\n",
    "                        SL.add((d,self.y[j]))\n",
    "            \n",
    "            votes = {}\n",
    "            for l,m in SL:\n",
    "                votes[m] = votes.get(m,0) +1\n",
    "            \n",
    "            max_votes = 0\n",
    "            max_votes_class=-1\n",
    "            \n",
    "            for v,count in votes.items():\n",
    "                if count > max_votes:\n",
    "                    max_votes = count\n",
    "                    max_votes_class = v\n",
    "            y[i] = max_votes_class\n",
    "        return y\n",
    "    \n",
    "if __name__ == \"__main__\":\n",
    "    X,Y = get_data()\n",
    "    N =500\n",
    "    \n",
    "    X_train,Y_train = X[:N],Y[:N]\n",
    "    X_test , Y_test = X[N:],Y[N:]\n",
    "    \n",
    "    for k in (3,5,7,9):\n",
    "        knn = KNN(k)\n",
    "        t0 = datetime.now()\n",
    "        knn.fit(X_train,Y_train)\n",
    "        print(\"Time taken for fitting the training set is :\",datetime.now()-t0)\n",
    "        \n",
    "        t1 = datetime.now()\n",
    "        print(\"Training accuracy is :\",knn.score(X_train,Y_train))\n",
    "        print(\"Time taken to calculate the training accuracy is:\",datetime.now()-t1)\n",
    "        \n",
    "        t2 = datetime.now()\n",
    "        print(\"Testing accuracy is :\",knn.score(X_test,Y_test))\n",
    "        print(\"Time taken to calculate the testing set accuracy is:\",datetime.now()-t2)\n",
    "        \n",
    "        print(\"----------------------------------------------------------------------------------\")"
   ]
  },
  {
   "cell_type": "markdown",
   "metadata": {},
   "source": [
    "### Above is the simple demonstration of how the algorithmn works.. Now lets see the other metrics like confusion_matrix, recall value and precision"
   ]
  },
  {
   "cell_type": "code",
   "execution_count": 42,
   "metadata": {},
   "outputs": [],
   "source": [
    "from sklearn.metrics import confusion_matrix,recall_score,precision_score,roc_auc_score"
   ]
  },
  {
   "cell_type": "code",
   "execution_count": 56,
   "metadata": {},
   "outputs": [
    {
     "data": {
      "text/plain": [
       "(231,)"
      ]
     },
     "execution_count": 56,
     "metadata": {},
     "output_type": "execute_result"
    }
   ],
   "source": [
    "Y_test.shape"
   ]
  },
  {
   "cell_type": "code",
   "execution_count": 57,
   "metadata": {},
   "outputs": [
    {
     "name": "stdout",
     "output_type": "stream",
     "text": [
      "Recall value is : 0.575\n"
     ]
    }
   ],
   "source": [
    "print(\"Recall value is :\",recall_score(Y_test,Y_pred))"
   ]
  },
  {
   "cell_type": "code",
   "execution_count": 58,
   "metadata": {},
   "outputs": [
    {
     "name": "stdout",
     "output_type": "stream",
     "text": [
      "Precision value is : 0.5542168674698795\n"
     ]
    }
   ],
   "source": [
    "print(\"Precision value is :\",precision_score(Y_test,Y_pred))"
   ]
  },
  {
   "cell_type": "code",
   "execution_count": 59,
   "metadata": {},
   "outputs": [
    {
     "name": "stdout",
     "output_type": "stream",
     "text": [
      "Area under the curve value is : 0.6649834437086092\n"
     ]
    }
   ],
   "source": [
    "print(\"Area under the curve value is :\",roc_auc_score(Y_test,Y_pred))"
   ]
  },
  {
   "cell_type": "code",
   "execution_count": 60,
   "metadata": {},
   "outputs": [
    {
     "name": "stdout",
     "output_type": "stream",
     "text": [
      "Confusion matrix is :\n",
      " [[114  37]\n",
      " [ 34  46]]\n"
     ]
    }
   ],
   "source": [
    "print(\"Confusion matrix is :\\n\",confusion_matrix(Y_test,Y_pred))"
   ]
  },
  {
   "cell_type": "markdown",
   "metadata": {},
   "source": [
    "Now lets understand the confusion matrix and create a pay off matrix,to check which metric would be the best for our model.\n",
    "\n",
    "1. True Positives = 46, means model predicts that the person will get the diabetes and in actual the person has the diabetes.So, in this case the team will send person the offers/promotions to get the test done. Lets say it would gonna cost them 10 dollars and when the person  will come, they will earn aroud 100 dollars on him. The net financial implication here would be 100-10 - 90 dollars\n",
    "2. True Negatives = 114, means model perdicts that the person will not get the diabetes and in actaul the person does't have any diabetes. So, the team will not send any promotions and person will also not come for testing.Net financial implications here are 0 dollars.\n",
    "3. False Positives = 37, means model predicts that the person will have diabetes, but in actual he doesn't have any diabetes. So,the team will send him the promotions that gonna costs them 10 dollars,but the person will not come.So, net financial implications here are -10 dollars.\n",
    "4. False Negatives = 34, means model predicts that person is fine, but in actual the person has the diabetes.So, the team will not send him the offers and in turn the company would have lose the money that they would have earned over him by testing.So,net financial cost here would be -100 -10(they could have send him the offers) = -110 dollars.\n",
    "\n",
    "Since the value of False Negatives and True Positives are very HIGH.So,our best metric would be RECALL."
   ]
  },
  {
   "cell_type": "code",
   "execution_count": null,
   "metadata": {},
   "outputs": [],
   "source": []
  }
 ],
 "metadata": {
  "kernelspec": {
   "display_name": "Python 3",
   "language": "python",
   "name": "python3"
  },
  "language_info": {
   "codemirror_mode": {
    "name": "ipython",
    "version": 3
   },
   "file_extension": ".py",
   "mimetype": "text/x-python",
   "name": "python",
   "nbconvert_exporter": "python",
   "pygments_lexer": "ipython3",
   "version": "3.7.3"
  }
 },
 "nbformat": 4,
 "nbformat_minor": 2
}
